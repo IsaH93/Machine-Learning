{
 "cells": [
  {
   "cell_type": "code",
   "execution_count": 1,
   "metadata": {},
   "outputs": [],
   "source": [
    "import numpy as np\n",
    "import matplotlib.pyplot as plt\n",
    "import pandas as pd\n",
    "import pandas_datareader as web\n",
    "import datetime as dt\n",
    "\n",
    "from sklearn.preprocessing import MinMaxScaler\n",
    "from tensorflow.keras.models import Sequential\n",
    "from tensorflow.keras.layers import Dense, Dropout, LSTM"
   ]
  },
  {
   "cell_type": "code",
   "execution_count": 12,
   "metadata": {},
   "outputs": [],
   "source": [
    "company = 'TSLA'\n",
    "\n",
    "start = dt.datetime(2012,1,1)\n",
    "end = dt.datetime(2021,10,26)\n",
    "\n",
    "data = web.DataReader(company, 'yahoo', start, end)"
   ]
  },
  {
   "cell_type": "code",
   "execution_count": 13,
   "metadata": {},
   "outputs": [],
   "source": [
    "# Prepare Data\n",
    "scaler = MinMaxScaler(feature_range=(0,1))\n",
    "scaled_data = scaler.fit_transform(data['Close'].values.reshape(-1,1))\n",
    "\n",
    "prediction_days = 60\n",
    "\n",
    "x_train = []\n",
    "y_train = []\n",
    "\n",
    "for x in range(prediction_days, len(scaled_data)):\n",
    "    x_train.append(scaled_data[x-prediction_days:x, 0])\n",
    "    y_train.append(scaled_data[x, 0])\n",
    "    \n",
    "x_train, y_train = np.array(x_train), np.array(y_train)\n",
    "x_train = np.reshape(x_train, (x_train.shape[0], x_train.shape[1], 1))"
   ]
  },
  {
   "cell_type": "code",
   "execution_count": 14,
   "metadata": {},
   "outputs": [
    {
     "name": "stdout",
     "output_type": "stream",
     "text": [
      "Epoch 1/25\n",
      "76/76 [==============================] - 11s 60ms/step - loss: 0.0032\n",
      "Epoch 2/25\n",
      "76/76 [==============================] - 5s 63ms/step - loss: 0.0013\n",
      "Epoch 3/25\n",
      "76/76 [==============================] - 5s 68ms/step - loss: 0.0014\n",
      "Epoch 4/25\n",
      "76/76 [==============================] - 6s 75ms/step - loss: 9.9805e-04\n",
      "Epoch 5/25\n",
      "76/76 [==============================] - 5s 65ms/step - loss: 9.9264e-04\n",
      "Epoch 6/25\n",
      "76/76 [==============================] - 5s 66ms/step - loss: 0.0011\n",
      "Epoch 7/25\n",
      "76/76 [==============================] - 5s 65ms/step - loss: 8.5728e-04\n",
      "Epoch 8/25\n",
      "76/76 [==============================] - 5s 64ms/step - loss: 9.8383e-04\n",
      "Epoch 9/25\n",
      "76/76 [==============================] - 5s 61ms/step - loss: 9.0518e-04\n",
      "Epoch 10/25\n",
      "76/76 [==============================] - 5s 62ms/step - loss: 9.1515e-04\n",
      "Epoch 11/25\n",
      "76/76 [==============================] - 5s 62ms/step - loss: 7.9309e-04\n",
      "Epoch 12/25\n",
      "76/76 [==============================] - 5s 62ms/step - loss: 9.2323e-04\n",
      "Epoch 13/25\n",
      "76/76 [==============================] - 5s 62ms/step - loss: 7.9065e-04\n",
      "Epoch 14/25\n",
      "76/76 [==============================] - 5s 63ms/step - loss: 7.6897e-04\n",
      "Epoch 15/25\n",
      "76/76 [==============================] - 5s 64ms/step - loss: 7.6412e-04\n",
      "Epoch 16/25\n",
      "76/76 [==============================] - 5s 62ms/step - loss: 7.7172e-04\n",
      "Epoch 17/25\n",
      "76/76 [==============================] - 5s 61ms/step - loss: 7.3687e-04\n",
      "Epoch 18/25\n",
      "76/76 [==============================] - 5s 62ms/step - loss: 7.4087e-04: 0s - \n",
      "Epoch 19/25\n",
      "76/76 [==============================] - 5s 61ms/step - loss: 6.1966e-04\n",
      "Epoch 20/25\n",
      "76/76 [==============================] - 5s 62ms/step - loss: 7.7996e-04\n",
      "Epoch 21/25\n",
      "76/76 [==============================] - 5s 63ms/step - loss: 6.5825e-04\n",
      "Epoch 22/25\n",
      "76/76 [==============================] - 5s 61ms/step - loss: 6.0055e-04\n",
      "Epoch 23/25\n",
      "76/76 [==============================] - 5s 61ms/step - loss: 6.7912e-04\n",
      "Epoch 24/25\n",
      "76/76 [==============================] - 5s 60ms/step - loss: 6.3965e-04\n",
      "Epoch 25/25\n",
      "76/76 [==============================] - 5s 60ms/step - loss: 5.8597e-04\n"
     ]
    },
    {
     "data": {
      "text/plain": [
       "<tensorflow.python.keras.callbacks.History at 0x2b54d2159a0>"
      ]
     },
     "execution_count": 14,
     "metadata": {},
     "output_type": "execute_result"
    }
   ],
   "source": [
    "# Build The Model\n",
    "model = Sequential()\n",
    "\n",
    "model.add(LSTM(units=50, return_sequences=True, input_shape=(x_train.shape[1], 1)))\n",
    "model.add(Dropout(0.2))\n",
    "model.add(LSTM(units=50, return_sequences=True))\n",
    "model.add(Dropout(0.2))\n",
    "model.add(LSTM(units=50))\n",
    "model.add(Dropout(0.2))\n",
    "model.add(Dense(units=1)) #Prediction of the next closing value.\n",
    "\n",
    "model.compile(optimizer='adam', loss='mean_squared_error')\n",
    "model.fit(x_train, y_train, epochs=25, batch_size=32)"
   ]
  },
  {
   "cell_type": "markdown",
   "metadata": {},
   "source": [
    "### Test The Model Accuracy on Existing Data"
   ]
  },
  {
   "cell_type": "code",
   "execution_count": 6,
   "metadata": {},
   "outputs": [],
   "source": [
    "# Load Test Data\n",
    "test_start = dt.datetime(2021,1,1)\n",
    "test_end = dt.datetime.now()"
   ]
  },
  {
   "cell_type": "code",
   "execution_count": 7,
   "metadata": {},
   "outputs": [],
   "source": [
    "test_data = web.DataReader(company, 'yahoo', test_start, test_end)\n",
    "actual_prices = test_data['Close'].values\n",
    "\n",
    "total_dataset = pd.concat((data['Close'], test_data['Close']), axis=0) \n",
    "\n",
    "model_inputs = total_dataset[len(total_dataset) - len(test_data) - prediction_days:].values\n",
    "model_inputs = model_inputs.reshape(-1, 1)\n",
    "model_inputs = scaler.transform(model_inputs)"
   ]
  },
  {
   "cell_type": "code",
   "execution_count": 9,
   "metadata": {},
   "outputs": [],
   "source": [
    "# Make Predictions on Test Data\n",
    "\n",
    "x_test = []\n",
    "\n",
    "for x in range(prediction_days, len(model_inputs)):\n",
    "    x_test.append(model_inputs[x-prediction_days:x, 0])\n",
    "    \n",
    "x_test = np.array(x_test)\n",
    "x_test = np.reshape(x_test, (x_test.shape[0], x_test.shape[1], 1))\n",
    "\n",
    "predicted_prices = model.predict(x_test)\n",
    "predicted_prices = scaler.inverse_transform(predicted_prices)"
   ]
  },
  {
   "cell_type": "code",
   "execution_count": 10,
   "metadata": {},
   "outputs": [
    {
     "data": {
      "image/png": "[encoded data removed]",
      "text/plain": [
       "<Figure size 432x288 with 1 Axes>"
      ]
     },
     "metadata": {
      "needs_background": "light"
     },
     "output_type": "display_data"
    }
   ],
   "source": [
    "# Plot The Test Predictions\n",
    "plt.plot(actual_prices, color='black', label=f'Actual {company} Price')\n",
    "plt.plot(predicted_prices, color='green', label=f'Predicted {company} Price')\n",
    "plt.title(f'{company} Share Price')\n",
    "plt.xlabel('Time')\n",
    "plt.ylabel(f'{company} Share Price')\n",
    "plt.legend()\n",
    "plt.show()"
   ]
  },
  {
   "cell_type": "code",
   "execution_count": 11,
   "metadata": {},
   "outputs": [
    {
     "name": "stdout",
     "output_type": "stream",
     "text": [
      "WARNING:tensorflow:Model was constructed with shape (None, 60, 1) for input KerasTensor(type_spec=TensorSpec(shape=(None, 60, 1), dtype=tf.float32, name='lstm_input'), name='lstm_input', description=\"created by layer 'lstm_input'\"), but it was called on an input with incompatible shape (None, 59, 1).\n",
      "Prediction: [[841.8435]]\n"
     ]
    }
   ],
   "source": [
    "# Predict Next Day\n",
    "\n",
    "real_data = [model_inputs[len(model_inputs) + 1 - prediction_days:len(model_inputs+1),]]\n",
    "real_data = np.array(real_data)\n",
    "real_data = np.reshape(real_data, (real_data.shape[0], real_data.shape[1],1))\n",
    "\n",
    "prediction = model.predict(real_data)\n",
    "prediction = scaler.inverse_transform(prediction)\n",
    "print(f'Prediction: {prediction}')\n"
   ]
  },
  {
   "cell_type": "code",
   "execution_count": null,
   "metadata": {},
   "outputs": [],
   "source": []
  }
 ],
 "metadata": {
  "kernelspec": {
   "display_name": "Python 3",
   "language": "python",
   "name": "python3"
  },
  "language_info": {
   "codemirror_mode": {
    "name": "ipython",
    "version": 3
   },
   "file_extension": ".py",
   "mimetype": "text/x-python",
   "name": "python",
   "nbconvert_exporter": "python",
   "pygments_lexer": "ipython3",
   "version": "3.8.3"
  }
 },
 "nbformat": 4,
 "nbformat_minor": 4
}
